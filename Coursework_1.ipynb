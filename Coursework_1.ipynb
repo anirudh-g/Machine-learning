{
 "cells": [
  {
   "cell_type": "code",
   "execution_count": 2,
   "metadata": {},
   "outputs": [],
   "source": [
    "import numpy as np\n",
    "X = np.loadtxt(\"data.csv\", delimiter=\",\")\n",
    "y = np.loadtxt(\"labels.csv\", delimiter=',')"
   ]
  },
  {
   "cell_type": "code",
   "execution_count": 3,
   "metadata": {},
   "outputs": [
    {
     "data": {
      "text/plain": [
       "array([[0.11184, 0.12387, 0.12858, ..., 0.60436, 0.56294, 1.0144 ],\n",
       "       [0.29834, 0.26881, 0.26239, ..., 0.58386, 0.46658, 0.74867],\n",
       "       [0.36912, 0.39587, 0.38999, ..., 0.49383, 0.62363, 0.61417],\n",
       "       ...,\n",
       "       [0.15921, 0.15782, 0.16968, ..., 0.63907, 0.62307, 1.0707 ],\n",
       "       [0.94111, 0.95293, 0.9505 , ..., 0.99212, 0.97502, 0.97734],\n",
       "       [0.25397, 0.2434 , 0.26774, ..., 0.83146, 0.76753, 0.81081]])"
      ]
     },
     "execution_count": 3,
     "metadata": {},
     "output_type": "execute_result"
    }
   ],
   "source": [
    "X"
   ]
  },
  {
   "cell_type": "code",
   "execution_count": 4,
   "metadata": {},
   "outputs": [
    {
     "data": {
      "text/plain": [
       "array([0., 0., 0., 0., 0., 0., 0., 0., 0., 0., 0., 0., 0., 0., 0., 0., 0.,\n",
       "       0., 0., 0., 0., 0., 0., 0., 0., 0., 0., 0., 0., 0., 0., 0., 0., 0.,\n",
       "       0., 0., 0., 0., 0., 0., 0., 0., 0., 0., 0., 0., 0., 0., 0., 0., 0.,\n",
       "       0., 0., 0., 0., 0., 0., 0., 0., 0., 0., 0., 0., 0., 0., 0., 0., 0.,\n",
       "       0., 0., 0., 0., 0., 0., 0., 0., 0., 0., 0., 0., 0., 0., 0., 0., 0.,\n",
       "       0., 0., 0., 0., 0., 0., 0., 0., 0., 0., 0., 0., 0., 0., 0., 1., 1.,\n",
       "       1., 1., 1., 1., 1., 1., 1., 1., 1., 1., 1., 1., 1., 1., 1., 1., 1.,\n",
       "       1., 1., 1., 1., 1., 1., 1., 1., 1., 1., 1., 1., 1., 1., 1., 1., 1.,\n",
       "       1., 1., 1., 1., 1., 1., 1., 1., 1., 1., 1., 1., 1., 1., 1., 1., 1.,\n",
       "       1., 1., 1., 1., 1., 1., 1., 1., 1., 1., 1., 1., 1., 1., 1., 1., 1.,\n",
       "       1., 1., 1., 1., 1., 1., 1., 1., 1., 1.])"
      ]
     },
     "execution_count": 4,
     "metadata": {},
     "output_type": "execute_result"
    }
   ],
   "source": [
    "y"
   ]
  },
  {
   "cell_type": "markdown",
   "metadata": {},
   "source": [
    "BASELINE"
   ]
  },
  {
   "cell_type": "code",
   "execution_count": 5,
   "metadata": {},
   "outputs": [
    {
     "name": "stdout",
     "output_type": "stream",
     "text": [
      "Cross validation score  0.8777777777777778\n",
      "CLassifier Accuracy  0.8\n",
      "Sensitivity  0.65\n",
      "Specificity  0.95\n"
     ]
    }
   ],
   "source": [
    "#Deault data\n",
    "from sklearn.svm import SVC\n",
    "from sklearn.model_selection import cross_val_score\n",
    "from sklearn.metrics import accuracy_score\n",
    "from sklearn.metrics import confusion_matrix\n",
    "from sklearn import metrics\n",
    "from sklearn.model_selection import GroupShuffleSplit\n",
    "\n",
    "#SVC Classifier with Linear kernel\n",
    "clf=SVC(kernel= \"linear\", gamma=\"auto\") #Support vector classifier with linear kernel\n",
    "groups = np.repeat(0,10)\n",
    "for i in range(1,18):\n",
    "    groups = np.hstack((groups, np.repeat(i,10)))\n",
    "\n",
    "gss = GroupShuffleSplit(n_splits=18, test_size=0.2, random_state=17) #Group Shuffle Split with 18splits\n",
    "\n",
    "\n",
    "for train_index, test_index in gss.split(X, y, groups):\n",
    "    X_train, X_test = X[train_index], X[test_index]\n",
    "    y_train, y_test = y[train_index], y[test_index]\n",
    "    mean_cv_score = np.mean(cross_val_score(clf, X,y, groups=groups, cv=gss.split(X,y,groups)))\n",
    "clf.fit(X_train,y_train)\n",
    "print(\"Cross validation score \",mean_cv_score)\n",
    "y_predict = clf.predict(X_test)\n",
    "print(\"CLassifier Accuracy \",accuracy_score(y_test, y_predict))\n",
    "\n",
    "cm = confusion_matrix(y_test, y_predict)\n",
    "specificity1 = cm[0,0]/(cm[0,0]+cm[0,1])\n",
    "print(\"Sensitivity \",(metrics.recall_score(y_test, y_predict)))\n",
    "print(\"Specificity \",specificity1)"
   ]
  },
  {
   "cell_type": "markdown",
   "metadata": {},
   "source": [
    "FINDING OPTIMAL VALUE OF K"
   ]
  },
  {
   "cell_type": "code",
   "execution_count": 6,
   "metadata": {},
   "outputs": [
    {
     "name": "stdout",
     "output_type": "stream",
     "text": [
      "Optimal number of features : 345\n"
     ]
    },
    {
     "data": {
      "text/plain": [
       "<Figure size 640x480 with 1 Axes>"
      ]
     },
     "metadata": {},
     "output_type": "display_data"
    }
   ],
   "source": [
    "import matplotlib.pyplot as plt\n",
    "from sklearn.feature_selection import RFECV\n",
    "                                                      \n",
    "rfecv = RFECV(estimator=clf, step=1, cv=gss.split(X,y,groups),scoring='accuracy')\n",
    "rfecv.fit(X, y)\n",
    "\n",
    "print(\"Optimal number of features : %d\" % rfecv.n_features_)\n",
    "\n",
    "# Plot number of features VS. cross-validation scores\n",
    "plt.figure()\n",
    "plt.xlabel(\"Number of features selected\")\n",
    "plt.ylabel(\"Cross validation score (nb of correct classifications)\")\n",
    "plt.plot(range(1, len(rfecv.grid_scores_) + 1), rfecv.grid_scores_)\n",
    "plt.show()"
   ]
  },
  {
   "cell_type": "markdown",
   "metadata": {},
   "source": [
    "CHI-SQAURE"
   ]
  },
  {
   "cell_type": "code",
   "execution_count": 7,
   "metadata": {},
   "outputs": [
    {
     "name": "stdout",
     "output_type": "stream",
     "text": [
      "Cross validation score  0.8777777777777778\n",
      "Classifier Accurcay 0.8\n",
      "Sensitivity  0.65\n",
      "Specificity  0.95\n"
     ]
    }
   ],
   "source": [
    "#CHI-SQUARE on original data\n",
    "from sklearn.feature_selection import SelectKBest, chi2\n",
    "chi= SelectKBest(chi2, k=345) #K=345 as per the RFECV value and graph above\n",
    "chi_data= chi.fit_transform(X, y)\n",
    "cols = chi.get_support(indices=True)\n",
    "new_data1 = X[:,cols] #extracting the selected features from the chi-square test\n",
    "\n",
    "for train_index, test_index in gss.split(new_data1, y, groups):\n",
    "    X_train, X_test = X[train_index], X[test_index]\n",
    "    y_train, y_test = y[train_index], y[test_index]\n",
    "    mean_cv_score = np.mean(cross_val_score(clf, X,y, groups=groups, cv=gss.split(new_data1,y,groups)))\n",
    "\n",
    "clf.fit(X_train,y_train)\n",
    "\n",
    "print(\"Cross validation score \",mean_cv_score)\n",
    "\n",
    "\n",
    "y_predict = clf.predict(X_test)\n",
    "print(\"Classifier Accurcay\",accuracy_score(y_test, y_predict))\n",
    "\n",
    "cm = confusion_matrix(y_test, y_predict)\n",
    "specificity1 = cm[0,0]/(cm[0,0]+cm[0,1])\n",
    "print(\"Sensitivity \",(metrics.recall_score(y_test, y_predict)))\n",
    "print(\"Specificity \",specificity1)"
   ]
  },
  {
   "cell_type": "markdown",
   "metadata": {},
   "source": [
    "ANOVA"
   ]
  },
  {
   "cell_type": "code",
   "execution_count": 8,
   "metadata": {},
   "outputs": [
    {
     "name": "stdout",
     "output_type": "stream",
     "text": [
      "Cross validation score  0.8736111111111111\n",
      "Classifier Accuracy 0.8\n",
      "Sensitivity  0.65\n",
      "Specificity  0.95\n"
     ]
    }
   ],
   "source": [
    "#ANOVA on original data\n",
    "from sklearn.feature_selection import SelectKBest, f_classif\n",
    "anova=SelectKBest(f_classif, k=345) #K=345 as per the RFECV value and graph above\n",
    "anova_data= anova.fit_transform(X, y)\n",
    "cols = anova.get_support(indices=True)\n",
    "new_data2 = X[:,cols] #extracting the selected features from the anova test\n",
    "\n",
    "for train_index, test_index in gss.split(new_data2, y, groups):\n",
    "    X_train, X_test = X[train_index], X[test_index]\n",
    "    y_train, y_test = y[train_index], y[test_index]\n",
    "    mean_cv_score = np.mean(cross_val_score(clf, new_data2,y, groups=groups, cv=gss.split(new_data2,y,groups)))\n",
    "\n",
    "clf.fit(X_train,y_train)\n",
    "print(\"Cross validation score \",mean_cv_score)\n",
    "\n",
    "y_predict = clf.predict(X_test)\n",
    "print(\"Classifier Accuracy\",accuracy_score(y_test, y_predict))\n",
    "\n",
    "cm = confusion_matrix(y_test, y_predict)\n",
    "specificity1 = cm[0,0]/(cm[0,0]+cm[0,1])\n",
    "print(\"Sensitivity \",(metrics.recall_score(y_test, y_predict)))\n",
    "print(\"Specificity \",specificity1)"
   ]
  },
  {
   "cell_type": "markdown",
   "metadata": {},
   "source": [
    "MUTUAL INFO"
   ]
  },
  {
   "cell_type": "code",
   "execution_count": 7,
   "metadata": {},
   "outputs": [
    {
     "name": "stdout",
     "output_type": "stream",
     "text": [
      "Cross validation score  0.8555555555555556\n",
      "Classifier Accuracy  0.8\n",
      "Sensitivity  0.65\n",
      "Specificity  0.95\n"
     ]
    }
   ],
   "source": [
    "\n",
    "#Mutual info on original data\n",
    "from sklearn.feature_selection import SelectKBest, mutual_info_classif\n",
    "mu_info=SelectKBest(mutual_info_classif, k=345) #K=345 as per the RFECV value and graph above\n",
    "mu_info_data= mu_info.fit_transform(X, y)\n",
    "cols = mu_info.get_support(indices=True)\n",
    "new_data4 = X[:,cols] #extracting the selected features from the mutual test\n",
    "\n",
    "for train_index, test_index in gss.split(new_data4, y, groups):\n",
    "    X_train, X_test = X[train_index], X[test_index]\n",
    "    y_train, y_test = y[train_index], y[test_index]\n",
    "    mean_cv_score = np.mean(cross_val_score(clf, new_data4,y, groups=groups, cv=gss.split(new_data4,y,groups)))\n",
    "\n",
    "clf.fit(X_train,y_train)\n",
    "\n",
    "print(\"Cross validation score \",mean_cv_score)\n",
    "\n",
    "y_predict = clf.predict(X_test)\n",
    "print(\"Classifier Accuracy \",accuracy_score(y_test, y_predict))\n",
    "\n",
    "cm = confusion_matrix(y_test, y_predict)\n",
    "specificity1 = cm[0,0]/(cm[0,0]+cm[0,1])\n",
    "print(\"Sensitivity \",(metrics.recall_score(y_test, y_predict)))\n",
    "print(\"Specificity \",specificity1)"
   ]
  },
  {
   "cell_type": "markdown",
   "metadata": {},
   "source": [
    "RECURSIVE FEATURE ELIMINATION"
   ]
  },
  {
   "cell_type": "code",
   "execution_count": 10,
   "metadata": {},
   "outputs": [
    {
     "name": "stdout",
     "output_type": "stream",
     "text": [
      "Cross validation score 0.9125000000000001\n",
      "Classifier Accuracy  0.875\n",
      "Sensitivity  0.75\n",
      "Specificity  1.0\n"
     ]
    }
   ],
   "source": [
    "#Recursive Feature elimination(RFE) - Wrapper method on original data\n",
    "from sklearn.feature_selection import RFE\n",
    "selector = RFE(clf, 345, step=1) #K=345 as per the RFECV value and graph above\n",
    "selector = selector.fit(X, y)\n",
    "cols = selector.support_\n",
    "new_data3 = X[:,cols] #extracting the selected features from the RFE\n",
    "\n",
    "for train_index, test_index in gss.split(new_data3, y, groups):\n",
    "    X_train, X_test = new_data3[train_index], new_data3[test_index]\n",
    "    y_train, y_test = y[train_index], y[test_index]\n",
    "    clf.fit(X_train,y_train)\n",
    "    mean_cv_score = np.mean(cross_val_score(clf, new_data3,y, groups=groups, cv=gss.split(new_data3,y,groups)))\n",
    "\n",
    "print(\"Cross validation score\",mean_cv_score)\n",
    "\n",
    "y_predict = clf.predict(X_test)\n",
    "print(\"Classifier Accuracy \",accuracy_score(y_test, y_predict))\n",
    "\n",
    "\n",
    "cm = confusion_matrix(y_test, y_predict)\n",
    "specificity1 = cm[0,0]/(cm[0,0]+cm[0,1])\n",
    "print(\"Sensitivity \",(metrics.recall_score(y_test, y_predict)))\n",
    "print(\"Specificity \",specificity1)"
   ]
  },
  {
   "cell_type": "markdown",
   "metadata": {},
   "source": [
    "EMBEDDED"
   ]
  },
  {
   "cell_type": "code",
   "execution_count": 19,
   "metadata": {},
   "outputs": [
    {
     "name": "stdout",
     "output_type": "stream",
     "text": [
      "Cross validation Score 0.8777777777777778\n",
      "Accuracy Score using loocv in for embedded dataset SVM  0.8\n",
      "Sensitivity  0.65\n",
      "Specificity  0.95\n"
     ]
    }
   ],
   "source": [
    "#Embedded method\n",
    "from sklearn.svm import LinearSVC\n",
    "from sklearn.feature_selection import SelectFromModel\n",
    "clf1=LinearSVC(C=0.05,penalty=\"l1\", dual=False, max_iter=4000).fit(X,y)\n",
    "for train_index, test_index in gss.split(X, y, groups):\n",
    "    #print(\"TRAIN:\", train_index, \"TEST:\", test_index)\n",
    "    X_train, X_test = X[train_index], X[test_index]\n",
    "    y_train, y_test = y[train_index], y[test_index]\n",
    "    clf1.fit(X_train,y_train)\n",
    "    mean_cv_score = np.mean(cross_val_score(clf, X,y, groups=groups, cv=gss.split(X,y,groups)))\n",
    "    #print(X_train, X_test, y_train, y_test)\n",
    "\n",
    "\n",
    "print(\"Cross validation Score\",mean_cv_score)\n",
    "\n",
    "y_predict = clf1.predict(X_test)\n",
    "print(\"Accuracy Score using loocv in for embedded dataset SVM \",accuracy_score(y_test, y_predict))\n",
    "\n",
    "cm = confusion_matrix(y_test, y_predict)\n",
    "specificity1 = cm[0,0]/(cm[0,0]+cm[0,1])\n",
    "print(\"Sensitivity \",(metrics.recall_score(y_test, y_predict)))\n",
    "print(\"Specificity \",specificity1)"
   ]
  },
  {
   "cell_type": "markdown",
   "metadata": {},
   "source": [
    "CHI-SQAURE + RFE"
   ]
  },
  {
   "cell_type": "code",
   "execution_count": 15,
   "metadata": {},
   "outputs": [
    {
     "name": "stdout",
     "output_type": "stream",
     "text": [
      "Optimal number of features : 163\n"
     ]
    },
    {
     "data": {
      "image/png": "[encoded data removed]",
      "text/plain": [
       "<Figure size 432x288 with 1 Axes>"
      ]
     },
     "metadata": {
      "needs_background": "light"
     },
     "output_type": "display_data"
    }
   ],
   "source": [
    "rfecv = RFECV(estimator=clf, step=1, cv=gss.split(new_data1,y,groups),scoring='accuracy')\n",
    "rfecv.fit(new_data1, y)\n",
    "print(\"Optimal number of features : %d\" % rfecv.n_features_)\n",
    "plt.figure()\n",
    "plt.xlabel(\"Number of features selected\")\n",
    "plt.ylabel(\"Cross validation score (nb of correct classifications)\")\n",
    "plt.plot(range(1, len(rfecv.grid_scores_) + 1), rfecv.grid_scores_)\n",
    "plt.show()"
   ]
  },
  {
   "cell_type": "code",
   "execution_count": 16,
   "metadata": {},
   "outputs": [
    {
     "name": "stdout",
     "output_type": "stream",
     "text": [
      "Cross validation score 0.9444444444444444\n",
      "Classifier Accuracy  0.925\n",
      "Sensitivity  0.85\n",
      "Specificity  1.0\n"
     ]
    }
   ],
   "source": [
    "#RFE on chi-square data\n",
    "from sklearn.feature_selection import RFE\n",
    "\n",
    "selector = RFE(clf, 163, step=1) #k=163 based on optimal value from RFECV\n",
    "selector = selector.fit(new_data1, y) #newdata1 - data from chi-sqaure test\n",
    "cols = selector.support_\n",
    "new_data5 = new_data1[:,cols] #extracting the selected features from the chi-square+RFE\n",
    "\n",
    "for train_index, test_index in gss.split(new_data5, y, groups):\n",
    "    X_train, X_test = new_data5[train_index], new_data5[test_index]\n",
    "    y_train, y_test = y[train_index], y[test_index]\n",
    "    clf.fit(X_train,y_train)\n",
    "    mean_cv_score = np.mean(cross_val_score(clf, new_data5,y, groups=groups, cv=gss.split(new_data5,y,groups)))\n",
    "\n",
    "print(\"Cross validation score\",mean_cv_score)\n",
    "\n",
    "y_predict = clf.predict(X_test)\n",
    "print(\"Classifier Accuracy \",accuracy_score(y_test, y_predict))\n",
    "\n",
    "\n",
    "cm = confusion_matrix(y_test, y_predict)\n",
    "specificity1 = cm[0,0]/(cm[0,0]+cm[0,1])\n",
    "print(\"Sensitivity \",(metrics.recall_score(y_test, y_predict)))\n",
    "print(\"Specificity \",specificity1)"
   ]
  },
  {
   "cell_type": "markdown",
   "metadata": {},
   "source": [
    "ANOVA + RFE"
   ]
  },
  {
   "cell_type": "code",
   "execution_count": 17,
   "metadata": {},
   "outputs": [
    {
     "name": "stdout",
     "output_type": "stream",
     "text": [
      "Optimal number of features : 184\n"
     ]
    },
    {
     "data": {
      "image/png": "[encoded data removed]",
      "text/plain": [
       "<Figure size 432x288 with 1 Axes>"
      ]
     },
     "metadata": {
      "needs_background": "light"
     },
     "output_type": "display_data"
    }
   ],
   "source": [
    "from sklearn.feature_selection import RFE\n",
    "rfecv = RFECV(estimator=clf, step=1, cv=gss.split(new_data2,y,groups),scoring='accuracy')\n",
    "rfecv.fit(new_data2, y)\n",
    "print(\"Optimal number of features : %d\" % rfecv.n_features_)\n",
    "plt.figure()\n",
    "plt.xlabel(\"Number of features selected\")\n",
    "plt.ylabel(\"Cross validation score (nb of correct classifications)\")\n",
    "plt.plot(range(1, len(rfecv.grid_scores_) + 1), rfecv.grid_scores_)\n",
    "plt.show()"
   ]
  },
  {
   "cell_type": "code",
   "execution_count": 18,
   "metadata": {},
   "outputs": [
    {
     "name": "stdout",
     "output_type": "stream",
     "text": [
      "Cross validation score  0.9458333333333333\n",
      "Classifer Accuracy   0.85\n",
      "Sensitivity  0.75\n",
      "Specificity  0.95\n"
     ]
    }
   ],
   "source": [
    "#RFE on anova data\n",
    "\n",
    "selector = RFE(clf, 184, step=1) #k=184 based on optimal value from RFECV\n",
    "selector = selector.fit(new_data2, y)  #newdata2 - data from anova test\n",
    "cols = selector.support_\n",
    "new_data6 = new_data2[:,cols]\n",
    "\n",
    "for train_index, test_index in gss.split(new_data6, y, groups):\n",
    "    X_train, X_test = new_data6[train_index], new_data6[test_index]\n",
    "    y_train, y_test = y[train_index], y[test_index]\n",
    "    mean_cv_score = np.mean(cross_val_score(clf, new_data6,y, groups=groups, cv=gss.split(new_data6,y,groups)))\n",
    "\n",
    "clf.fit(X_train,y_train)\n",
    "print(\"Cross validation score \",mean_cv_score)\n",
    "\n",
    "y_predict = clf.predict(X_test)\n",
    "print(\"Classifer Accuracy  \",accuracy_score(y_test, y_predict))\n",
    "\n",
    "cm = confusion_matrix(y_test, y_predict)\n",
    "specificity1 = cm[0,0]/(cm[0,0]+cm[0,1])\n",
    "print(\"Sensitivity \",(metrics.recall_score(y_test, y_predict)))\n",
    "print(\"Specificity \",specificity1)"
   ]
  },
  {
   "cell_type": "markdown",
   "metadata": {},
   "source": [
    "MUTUAL INFO + RFE"
   ]
  },
  {
   "cell_type": "code",
   "execution_count": 19,
   "metadata": {},
   "outputs": [
    {
     "name": "stdout",
     "output_type": "stream",
     "text": [
      "Optimal number of features : 215\n"
     ]
    },
    {
     "data": {
      "image/png": "[encoded data removed]",
      "text/plain": [
       "<Figure size 432x288 with 1 Axes>"
      ]
     },
     "metadata": {
      "needs_background": "light"
     },
     "output_type": "display_data"
    }
   ],
   "source": [
    "from sklearn.feature_selection import RFE\n",
    "rfecv = RFECV(estimator=clf, step=1, cv=gss.split(new_data4,y,groups),scoring='accuracy')\n",
    "rfecv.fit(new_data4, y)\n",
    "print(\"Optimal number of features : %d\" % rfecv.n_features_)\n",
    "plt.figure()\n",
    "plt.xlabel(\"Number of features selected\")\n",
    "plt.ylabel(\"Cross validation score (nb of correct classifications)\")\n",
    "plt.plot(range(1, len(rfecv.grid_scores_) + 1), rfecv.grid_scores_)\n",
    "plt.show()"
   ]
  },
  {
   "cell_type": "code",
   "execution_count": 28,
   "metadata": {},
   "outputs": [
    {
     "name": "stdout",
     "output_type": "stream",
     "text": [
      "Cross Validation Score  0.9458333333333333\n",
      "Classifier Accuracy  0.875\n",
      "Sensitivity  0.8\n",
      "Specificity  0.95\n"
     ]
    }
   ],
   "source": [
    "#RFE on mutual info data\n",
    "\n",
    "selector = RFE(clf, 215, step=1) #k=215 based on optimal value from RFECV\n",
    "selector = selector.fit(new_data4, y)  #new_data4 - data from mutual info test\n",
    "cols = selector.support_\n",
    "new_data7 = new_data4[:,cols]\n",
    "\n",
    "for train_index, test_index in gss.split(new_data7, y, groups):\n",
    "    X_train, X_test = new_data7[train_index], new_data7[test_index]\n",
    "    y_train, y_test = y[train_index], y[test_index]\n",
    "    clf.fit(X_train,y_train)\n",
    "    mean_cv_score = np.mean(cross_val_score(clf, new_data6,y, groups=groups, cv=gss.split(new_data6,y,groups)))\n",
    "\n",
    "print(\"Cross Validation Score \",mean_cv_score)\n",
    "\n",
    "y_predict = clf.predict(X_test)\n",
    "print(\"Classifier Accuracy \",accuracy_score(y_test, y_predict))\n",
    "\n",
    "cm = confusion_matrix(y_test, y_predict)\n",
    "specificity1 = cm[0,0]/(cm[0,0]+cm[0,1])\n",
    "print(\"Sensitivity \",(metrics.recall_score(y_test, y_predict)))\n",
    "print(\"Specificity \",specificity1)"
   ]
  }
 ],
 "metadata": {
  "kernelspec": {
   "display_name": "Python 3",
   "language": "python",
   "name": "python3"
  },
  "language_info": {
   "codemirror_mode": {
    "name": "ipython",
    "version": 3
   },
   "file_extension": ".py",
   "mimetype": "text/x-python",
   "name": "python",
   "nbconvert_exporter": "python",
   "pygments_lexer": "ipython3",
   "version": "3.7.4"
  }
 },
 "nbformat": 4,
 "nbformat_minor": 2
}
